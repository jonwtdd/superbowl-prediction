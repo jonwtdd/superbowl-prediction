{
  "nbformat": 4,
  "nbformat_minor": 0,
  "metadata": {
    "colab": {
      "provenance": []
    },
    "kernelspec": {
      "name": "python3",
      "display_name": "Python 3"
    },
    "language_info": {
      "name": "python"
    }
  },
  "cells": [
    {
      "cell_type": "markdown",
      "source": [
        "# Winner of the Super Bowl using Neural Networks"
      ],
      "metadata": {
        "id": "djvEAE2ulLOr"
      }
    },
    {
      "cell_type": "markdown",
      "source": [
        "## Nate Dorsey and Jon Davidson"
      ],
      "metadata": {
        "id": "kWr10KBVlW6s"
      }
    },
    {
      "cell_type": "markdown",
      "source": [
        "## About the Data"
      ],
      "metadata": {
        "id": "RQMIrfEZldJz"
      }
    },
    {
      "cell_type": "markdown",
      "source": [
        "For this analysis, we aimed to develop a neural network capable of predicting the Superbowl winner using mid-season team statistics. The dataset contains 704 entries for each teams offensive and defensive statistics through from 2002 to 2023, in order to predict the winner of the upcoming super bowl. Our goal is to minimize the features and use features integral for deciding the super bowl winner based on learned trends from previous years."
      ],
      "metadata": {
        "id": "w3PomPWtW1Hh"
      }
    },
    {
      "cell_type": "markdown",
      "source": [
        "## Importing Libraries"
      ],
      "metadata": {
        "id": "DsfAcsuN8TIe"
      }
    },
    {
      "cell_type": "markdown",
      "source": [
        "Before beginning analysis, it is crucial to load all packages and libraries required to perform an analysis. Pandas is crucial for loading and processing the dataset, and creating new features that might prove to be helpful. Matplotlib allows for plotting and creating different visuals that might prove to be necessary. Scikit-learn StandardScaler is used to standardize features, ensuring that each feature contributes equally to the learning process, preventing bias toward features with larger values. Scikit-learn train_test_split splits the dataset into training and testing sets in order to evaluate our model's performance. TensorFlow Keras is integral for building our neural network model. The Sequential tool stacks layers, ideal for feedforward neural networks, where we aim for a pipeline from input to output to predict the Superbowl winner. Dense passes inputs through layers of weights to return a probability score on the winner. SMOTE is crucial due to the likely class imbalance in the dataset."
      ],
      "metadata": {
        "id": "P-NKvAZE8Vtn"
      }
    },
    {
      "cell_type": "code",
      "execution_count": null,
      "metadata": {
        "id": "edu55PDk8FMd"
      },
      "outputs": [],
      "source": [
        "#Load default packages necessary for Machine Learning Analysis\n",
        "import pandas as pd\n",
        "import matplotlib.pyplot as plt\n",
        "from sklearn.preprocessing import StandardScaler\n",
        "from sklearn.model_selection import train_test_split\n",
        "from tensorflow.keras import Sequential\n",
        "from tensorflow.keras.layers import Dense\n",
        "from imblearn.over_sampling import SMOTE"
      ]
    },
    {
      "cell_type": "markdown",
      "source": [
        "We loaded our data using Pandas from an offense and defense spreadsheets we created as issues arose when retrieving data from Pro Football Reference."
      ],
      "metadata": {
        "id": "xp_ZVTuFcoPO"
      }
    },
    {
      "cell_type": "code",
      "source": [
        "#Mount Google drive\n",
        "from google.colab import drive\n",
        "drive.mount('/content/drive')\n",
        "\n",
        "#Load team defense stats from each year\n",
        "def02 = pd.read_csv('/content/drive/MyDrive/Colab Notebooks/defense - 02.csv', header=None)\n",
        "def03 = pd.read_csv('/content/drive/MyDrive/Colab Notebooks/defense - 03.csv', header=None)\n",
        "def04 = pd.read_csv('/content/drive/MyDrive/Colab Notebooks/defense - 04.csv', header=None)\n",
        "def05 = pd.read_csv('/content/drive/MyDrive/Colab Notebooks/defense - 05.csv', header=None)\n",
        "def06 = pd.read_csv('/content/drive/MyDrive/Colab Notebooks/defense - 06.csv', header=None)\n",
        "def07 = pd.read_csv('/content/drive/MyDrive/Colab Notebooks/defense - 07.csv', header=None)\n",
        "def08 = pd.read_csv('/content/drive/MyDrive/Colab Notebooks/defense - 08.csv', header=None)\n",
        "def09 = pd.read_csv('/content/drive/MyDrive/Colab Notebooks/defense - 09.csv', header=None)\n",
        "def10 = pd.read_csv('/content/drive/MyDrive/Colab Notebooks/defense - 10.csv', header=None)\n",
        "def11 = pd.read_csv('/content/drive/MyDrive/Colab Notebooks/defense - 11.csv', header=None)\n",
        "def12 = pd.read_csv('/content/drive/MyDrive/Colab Notebooks/defense - 12.csv', header=None)\n",
        "def13 = pd.read_csv('/content/drive/MyDrive/Colab Notebooks/defense - 13.csv', header=None)\n",
        "def14 = pd.read_csv('/content/drive/MyDrive/Colab Notebooks/defense - 14.csv', header=None)\n",
        "def15 = pd.read_csv('/content/drive/MyDrive/Colab Notebooks/defense - 15.csv', header=None)\n",
        "def16 = pd.read_csv('/content/drive/MyDrive/Colab Notebooks/defense - 16.csv', header=None)\n",
        "def17 = pd.read_csv('/content/drive/MyDrive/Colab Notebooks/defense - 17.csv', header=None)\n",
        "def18 = pd.read_csv('/content/drive/MyDrive/Colab Notebooks/defense - 18.csv', header=None)\n",
        "def19 = pd.read_csv('/content/drive/MyDrive/Colab Notebooks/defense - 19.csv', header=None)\n",
        "def20 = pd.read_csv('/content/drive/MyDrive/Colab Notebooks/defense - 20.csv', header=None)\n",
        "def21 = pd.read_csv('/content/drive/MyDrive/Colab Notebooks/defense - 21.csv', header=None)\n",
        "def22 = pd.read_csv('/content/drive/MyDrive/Colab Notebooks/defense - 22.csv', header=None)\n",
        "def23 = pd.read_csv('/content/drive/MyDrive/Colab Notebooks/defense - 23.csv', header=None)\n",
        "#Predicting Data through after Thursday Night Football Week 10\n",
        "def24 = pd.read_csv('/content/drive/MyDrive/Colab Notebooks/defense - 24.csv', header=None)"
      ],
      "metadata": {
        "id": "ZkG9i-OsJ6P9",
        "colab": {
          "base_uri": "https://localhost:8080/"
        },
        "outputId": "8b53ce98-6e7c-4796-f60f-f4a845624693"
      },
      "execution_count": null,
      "outputs": [
        {
          "output_type": "stream",
          "name": "stdout",
          "text": [
            "Drive already mounted at /content/drive; to attempt to forcibly remount, call drive.mount(\"/content/drive\", force_remount=True).\n"
          ]
        }
      ]
    },
    {
      "cell_type": "code",
      "source": [
        "#Load team offense stats from each year\n",
        "off02 = pd.read_csv('/content/drive/MyDrive/Colab Notebooks/offense - 02.csv', header=None)\n",
        "off03 = pd.read_csv('/content/drive/MyDrive/Colab Notebooks/offense - 03.csv', header=None)\n",
        "off04 = pd.read_csv('/content/drive/MyDrive/Colab Notebooks/offense - 04.csv', header=None)\n",
        "off05 = pd.read_csv('/content/drive/MyDrive/Colab Notebooks/offense - 05.csv', header=None)\n",
        "off06 = pd.read_csv('/content/drive/MyDrive/Colab Notebooks/offense - 06.csv', header=None)\n",
        "off07 = pd.read_csv('/content/drive/MyDrive/Colab Notebooks/offense - 07.csv', header=None)\n",
        "off08 = pd.read_csv('/content/drive/MyDrive/Colab Notebooks/offense - 08.csv', header=None)\n",
        "off09 = pd.read_csv('/content/drive/MyDrive/Colab Notebooks/offense - 09.csv', header=None)\n",
        "off10 = pd.read_csv('/content/drive/MyDrive/Colab Notebooks/offense - 10.csv', header=None)\n",
        "off11 = pd.read_csv('/content/drive/MyDrive/Colab Notebooks/offense - 11.csv', header=None)\n",
        "off12 = pd.read_csv('/content/drive/MyDrive/Colab Notebooks/offense - 12.csv', header=None)\n",
        "off13 = pd.read_csv('/content/drive/MyDrive/Colab Notebooks/offense - 13.csv', header=None)\n",
        "off14 = pd.read_csv('/content/drive/MyDrive/Colab Notebooks/offense - 14.csv', header=None)\n",
        "off15 = pd.read_csv('/content/drive/MyDrive/Colab Notebooks/offense - 15.csv', header=None)\n",
        "off16 = pd.read_csv('/content/drive/MyDrive/Colab Notebooks/offense - 16.csv', header=None)\n",
        "off17 = pd.read_csv('/content/drive/MyDrive/Colab Notebooks/offense - 17.csv', header=None)\n",
        "off18 = pd.read_csv('/content/drive/MyDrive/Colab Notebooks/offense - 18.csv', header=None)\n",
        "off19 = pd.read_csv('/content/drive/MyDrive/Colab Notebooks/offense - 19.csv', header=None)\n",
        "off20 = pd.read_csv('/content/drive/MyDrive/Colab Notebooks/offense - 20.csv', header=None)\n",
        "off21 = pd.read_csv('/content/drive/MyDrive/Colab Notebooks/offense - 21.csv', header=None)\n",
        "off22 = pd.read_csv('/content/drive/MyDrive/Colab Notebooks/offense - 22.csv', header=None)\n",
        "off23 = pd.read_csv('/content/drive/MyDrive/Colab Notebooks/offense - 23.csv', header=None)\n",
        "#Predicting Data through after Thursday Night Football Week 10\n",
        "off24 = pd.read_csv('/content/drive/MyDrive/Colab Notebooks/offense - 24.csv', header=None)"
      ],
      "metadata": {
        "id": "DxzZgSdRSwQe"
      },
      "execution_count": null,
      "outputs": []
    },
    {
      "cell_type": "code",
      "source": [
        "#Understand features recorded\n",
        "defense_map = [\n",
        "    \"def_rank\",                    # Rk\n",
        "    \"team\",                        # Tm\n",
        "    \"games\",                       # G\n",
        "    \"points_allowed\",              # PA\n",
        "    \"total_yards_allowed\",         # Yds (total yards allowed)\n",
        "    \"plays\",                       # Ply\n",
        "    \"yards_per_play_allowed\",      # Y/P\n",
        "    \"turnovers_forced\",            # TO\n",
        "    \"fumbles_recovered\",           # FL\n",
        "    \"first_downs_allowed\",         # 1stD (total first downs allowed)\n",
        "    \"completions_allowed\",         # Cmp\n",
        "    \"pass_attempts_against\",       # Att (pass attempts against)\n",
        "    \"passing_yards_allowed\",       # Yds (passing yards allowed)\n",
        "    \"passing_touchdowns_allowed\",  # TD (passing touchdowns allowed)\n",
        "    \"interceptions\",               # Int\n",
        "    \"net_yards_per_pass_attempt_allowed\", # NY/A\n",
        "    \"rushing_first_downs_allowed\", # 1stD (rushing first downs allowed)\n",
        "    \"rushing_attempts_against\",    # Att (rushing attempts against)\n",
        "    \"rushing_yards_allowed\",       # Yds (rushing yards allowed)\n",
        "    \"rushing_touchdowns_allowed\",  # TD (rushing touchdowns allowed)\n",
        "    \"yards_per_rushing_attempt_allowed\", # Y/A\n",
        "    \"total_first_downs_allowed\",   # 1stD (total first downs from penalties)\n",
        "    \"penalties\",                   # Pen\n",
        "    \"penalty_yards\",               # Yds (penalty yards)\n",
        "    \"first_downs_by_penalty\",      # 1stPy\n",
        "    \"score_percentage\",            # Sc%\n",
        "    \"turnover_percentage\",         # TO%\n",
        "    \"expected_points_added\"        # EXP\n",
        "]\n",
        "\n",
        "# Make list to loop through dfs\n",
        "defense_dfs = [def02, def03, def04, def05, def06, def07, def08, def09, def10,\n",
        "                      def11, def12, def13, def14, def15, def16, def17, def18, def19,\n",
        "                      def20, def21, def22, def23]\n",
        "\n",
        "for i, df in enumerate(defense_dfs):\n",
        "    df.columns = defense_map  # Replace col abbreviations with better names\n",
        "    df.drop(index=0, inplace=True)  # Drop abbreviated row\n",
        "    df.reset_index(drop=True, inplace=True)\n",
        "\n",
        "    # Update dfs\n",
        "    defense_dfs[i] = df\n",
        "\n",
        "def24.columns = defense_map  # Replace col abbreviations with better names\n",
        "def24['year'] = 2024\n",
        "def24.drop(index=0, inplace=True)  # Drop abbreviated row\n",
        "def24.reset_index(drop=True, inplace=True)  # Reset index"
      ],
      "metadata": {
        "id": "S1gKcioPWfgx"
      },
      "execution_count": null,
      "outputs": []
    },
    {
      "cell_type": "code",
      "source": [
        "# Define each column\n",
        "offense_map = [\n",
        "    \"off_rank\",                     # Rk\n",
        "    \"team\",                         # Tm\n",
        "    \"games\",                        # G\n",
        "    \"points_for\",                   # PF (points scored by the offense)\n",
        "    \"total_yards_gained\",           # Yds (total yards gained)\n",
        "    \"plays\",                        # Ply\n",
        "    \"yards_per_play\",               # Y/P\n",
        "    \"turnovers_committed\",          # TO\n",
        "    \"fumbles_lost\",                 # FL\n",
        "    \"first_downs_gained\",           # 1stD (total first downs gained)\n",
        "    \"completions\",                  # Cmp\n",
        "    \"pass_attempts\",                # Att (pass attempts)\n",
        "    \"passing_yards\",                # Yds (passing yards gained)\n",
        "    \"passing_touchdowns\",           # TD (passing touchdowns scored)\n",
        "    \"interceptions_thrown\",         # Int\n",
        "    \"net_yards_per_pass_attempt\",   # NY/A\n",
        "    \"rushing_first_downs\",          # 1stD (rushing first downs gained)\n",
        "    \"rushing_attempts\",             # Att (rushing attempts)\n",
        "    \"rushing_yards\",                # Yds (rushing yards gained)\n",
        "    \"rushing_touchdowns\",           # TD (rushing touchdowns scored)\n",
        "    \"yards_per_rushing_attempt\",    # Y/A\n",
        "    \"total_first_downs\",            # 1stD (total first downs, passing and rushing)\n",
        "    \"penalties\",                    # Pen\n",
        "    \"penalty_yards\",                # Yds (penalty yards)\n",
        "    \"first_downs_by_penalty\",       # 1stPy\n",
        "    \"score_percentage\",             # Sc% (percentage of drives ending in a score)\n",
        "    \"turnover_percentage\",          # TO% (percentage of drives ending in a turnover)\n",
        "    \"expected_points_contributed\"   # EXP (expected points contributed by the offense)\n",
        "]\n",
        "\n",
        "offense_dfs = [off02, off03, off04, off05, off06, off07, off08, off09, off10,\n",
        "               off11, off12, off13, off14, off15, off16, off17, off18, off19,\n",
        "               off20, off21, off22, off23]\n",
        "\n",
        "# Make list to loop through dfs\n",
        "for i, df in enumerate(offense_dfs):\n",
        "    df.columns = offense_map  # Map new names\n",
        "    df.drop(index=0, inplace=True)  # Drop abbrev. feature names\n",
        "    df.reset_index(drop=True, inplace=True)  # reset index\n",
        "\n",
        "    # Update list with changed df\n",
        "    offense_dfs[i] = df\n",
        "\n",
        "#Keep separate from training data\n",
        "off24.columns = offense_map  # Input mapped names\n",
        "off24['year'] = 2024\n",
        "off24.drop(index=0, inplace=True)  # Drop row with abbreviated cols\n",
        "off24.reset_index(drop=True, inplace=True)  # Reset index"
      ],
      "metadata": {
        "id": "vsej8PQiu2kq"
      },
      "execution_count": null,
      "outputs": []
    },
    {
      "cell_type": "code",
      "source": [
        "# starting year\n",
        "start_year = 2002\n",
        "\n",
        "# dict to store combined df\n",
        "combined_dfs = {}\n",
        "\n",
        "# Loop through each pair of offense and defense df\n",
        "for i, (off_df, def_df) in enumerate(zip(offense_dfs, defense_dfs)):\n",
        "    year = start_year + i  # Year\n",
        "    off_df['year'] = year # Add year col to each df\n",
        "    def_df['year'] = year\n",
        "\n",
        "    # Merge dfs on team and year\n",
        "    combined_df = pd.merge(off_df, def_df, on=['team', 'year'], suffixes=('_offense', '_defense'))\n",
        "    combined_dfs[f'combined{year}'] = combined_df\n",
        "\n",
        "combined24 = pd.merge(off24, def24, on=['team', 'year'], suffixes=('_offense', '_defense'))\n",
        "\n",
        "# Concat all dfs in dict combined dfs\n",
        "total_years = pd.concat(combined_dfs.values(), ignore_index=True)\n",
        "\n",
        "#Check combining\n",
        "print(total_years.shape)"
      ],
      "metadata": {
        "id": "F7n6jg7cvAoq",
        "colab": {
          "base_uri": "https://localhost:8080/"
        },
        "outputId": "6d37b088-6960-4d2c-9812-8ac90eb29bb7"
      },
      "execution_count": null,
      "outputs": [
        {
          "output_type": "stream",
          "name": "stdout",
          "text": [
            "(704, 56)\n"
          ]
        }
      ]
    },
    {
      "cell_type": "markdown",
      "source": [
        "## Ensuring Correct Datatypes"
      ],
      "metadata": {
        "id": "bwdytIQ4Josj"
      }
    },
    {
      "cell_type": "markdown",
      "source": [
        "Upon loading the datasets, each feature was an object, so we looped through each numerical feature ensuring it changed from object to a numerical format required for the given feature."
      ],
      "metadata": {
        "id": "2bCw-aSId6Oz"
      }
    },
    {
      "cell_type": "code",
      "source": [
        "#Ensure correct dtypes for numeric columns\n",
        "print(total_years.dtypes)"
      ],
      "metadata": {
        "colab": {
          "base_uri": "https://localhost:8080/"
        },
        "id": "iRIB82Xj5Y58",
        "outputId": "91ab1f60-8ee9-4f17-bbeb-cd0df595a105"
      },
      "execution_count": null,
      "outputs": [
        {
          "output_type": "stream",
          "name": "stdout",
          "text": [
            "off_rank                              object\n",
            "team                                  object\n",
            "games_offense                         object\n",
            "points_for                            object\n",
            "total_yards_gained                    object\n",
            "plays_offense                         object\n",
            "yards_per_play                        object\n",
            "turnovers_committed                   object\n",
            "fumbles_lost                          object\n",
            "first_downs_gained                    object\n",
            "completions                           object\n",
            "pass_attempts                         object\n",
            "passing_yards                         object\n",
            "passing_touchdowns                    object\n",
            "interceptions_thrown                  object\n",
            "net_yards_per_pass_attempt            object\n",
            "rushing_first_downs                   object\n",
            "rushing_attempts                      object\n",
            "rushing_yards                         object\n",
            "rushing_touchdowns                    object\n",
            "yards_per_rushing_attempt             object\n",
            "total_first_downs                     object\n",
            "penalties_offense                     object\n",
            "penalty_yards_offense                 object\n",
            "first_downs_by_penalty_offense        object\n",
            "score_percentage_offense              object\n",
            "turnover_percentage_offense           object\n",
            "expected_points_contributed           object\n",
            "year                                   int64\n",
            "def_rank                              object\n",
            "games_defense                         object\n",
            "points_allowed                        object\n",
            "total_yards_allowed                   object\n",
            "plays_defense                         object\n",
            "yards_per_play_allowed                object\n",
            "turnovers_forced                      object\n",
            "fumbles_recovered                     object\n",
            "first_downs_allowed                   object\n",
            "completions_allowed                   object\n",
            "pass_attempts_against                 object\n",
            "passing_yards_allowed                 object\n",
            "passing_touchdowns_allowed            object\n",
            "interceptions                         object\n",
            "net_yards_per_pass_attempt_allowed    object\n",
            "rushing_first_downs_allowed           object\n",
            "rushing_attempts_against              object\n",
            "rushing_yards_allowed                 object\n",
            "rushing_touchdowns_allowed            object\n",
            "yards_per_rushing_attempt_allowed     object\n",
            "total_first_downs_allowed             object\n",
            "penalties_defense                     object\n",
            "penalty_yards_defense                 object\n",
            "first_downs_by_penalty_defense        object\n",
            "score_percentage_defense              object\n",
            "turnover_percentage_defense           object\n",
            "expected_points_added                 object\n",
            "dtype: object\n"
          ]
        }
      ]
    },
    {
      "cell_type": "code",
      "source": [
        "#Correct dtypes\n",
        "for col in total_years.columns:\n",
        "    if col != 'team':  # Exclude the 'team' column\n",
        "        total_years[col] = pd.to_numeric(total_years[col])\n",
        "\n",
        "#Correct dtypes - 2024\n",
        "for col in combined24.columns:\n",
        "  if col != 'team':\n",
        "    combined24[col] = pd.to_numeric(combined24[col], errors='coerce')\n",
        "\n",
        "print(total_years.dtypes)\n",
        "print(combined24.dtypes)"
      ],
      "metadata": {
        "id": "9VZYsLtnHEKC",
        "colab": {
          "base_uri": "https://localhost:8080/"
        },
        "outputId": "344524df-5a6f-4dad-f046-8d195fc57ea7"
      },
      "execution_count": null,
      "outputs": [
        {
          "output_type": "stream",
          "name": "stdout",
          "text": [
            "off_rank                                int64\n",
            "team                                   object\n",
            "games_offense                           int64\n",
            "points_for                              int64\n",
            "total_yards_gained                      int64\n",
            "plays_offense                           int64\n",
            "yards_per_play                        float64\n",
            "turnovers_committed                     int64\n",
            "fumbles_lost                            int64\n",
            "first_downs_gained                      int64\n",
            "completions                             int64\n",
            "pass_attempts                           int64\n",
            "passing_yards                           int64\n",
            "passing_touchdowns                      int64\n",
            "interceptions_thrown                    int64\n",
            "net_yards_per_pass_attempt            float64\n",
            "rushing_first_downs                     int64\n",
            "rushing_attempts                        int64\n",
            "rushing_yards                           int64\n",
            "rushing_touchdowns                      int64\n",
            "yards_per_rushing_attempt             float64\n",
            "total_first_downs                       int64\n",
            "penalties_offense                       int64\n",
            "penalty_yards_offense                   int64\n",
            "first_downs_by_penalty_offense          int64\n",
            "score_percentage_offense              float64\n",
            "turnover_percentage_offense           float64\n",
            "expected_points_contributed           float64\n",
            "year                                    int64\n",
            "def_rank                                int64\n",
            "games_defense                           int64\n",
            "points_allowed                          int64\n",
            "total_yards_allowed                     int64\n",
            "plays_defense                           int64\n",
            "yards_per_play_allowed                float64\n",
            "turnovers_forced                        int64\n",
            "fumbles_recovered                       int64\n",
            "first_downs_allowed                     int64\n",
            "completions_allowed                     int64\n",
            "pass_attempts_against                   int64\n",
            "passing_yards_allowed                   int64\n",
            "passing_touchdowns_allowed              int64\n",
            "interceptions                           int64\n",
            "net_yards_per_pass_attempt_allowed    float64\n",
            "rushing_first_downs_allowed             int64\n",
            "rushing_attempts_against                int64\n",
            "rushing_yards_allowed                   int64\n",
            "rushing_touchdowns_allowed              int64\n",
            "yards_per_rushing_attempt_allowed     float64\n",
            "total_first_downs_allowed               int64\n",
            "penalties_defense                       int64\n",
            "penalty_yards_defense                   int64\n",
            "first_downs_by_penalty_defense          int64\n",
            "score_percentage_defense              float64\n",
            "turnover_percentage_defense           float64\n",
            "expected_points_added                 float64\n",
            "dtype: object\n",
            "off_rank                                int64\n",
            "team                                   object\n",
            "games_offense                           int64\n",
            "points_for                              int64\n",
            "total_yards_gained                      int64\n",
            "plays_offense                           int64\n",
            "yards_per_play                        float64\n",
            "turnovers_committed                     int64\n",
            "fumbles_lost                            int64\n",
            "first_downs_gained                      int64\n",
            "completions                             int64\n",
            "pass_attempts                           int64\n",
            "passing_yards                           int64\n",
            "passing_touchdowns                      int64\n",
            "interceptions_thrown                    int64\n",
            "net_yards_per_pass_attempt            float64\n",
            "rushing_first_downs                     int64\n",
            "rushing_attempts                        int64\n",
            "rushing_yards                           int64\n",
            "rushing_touchdowns                      int64\n",
            "yards_per_rushing_attempt             float64\n",
            "total_first_downs                       int64\n",
            "penalties_offense                       int64\n",
            "penalty_yards_offense                   int64\n",
            "first_downs_by_penalty_offense          int64\n",
            "score_percentage_offense              float64\n",
            "turnover_percentage_offense           float64\n",
            "expected_points_contributed           float64\n",
            "year                                    int64\n",
            "def_rank                                int64\n",
            "games_defense                           int64\n",
            "points_allowed                          int64\n",
            "total_yards_allowed                     int64\n",
            "plays_defense                           int64\n",
            "yards_per_play_allowed                float64\n",
            "turnovers_forced                        int64\n",
            "fumbles_recovered                       int64\n",
            "first_downs_allowed                     int64\n",
            "completions_allowed                     int64\n",
            "pass_attempts_against                   int64\n",
            "passing_yards_allowed                   int64\n",
            "passing_touchdowns_allowed              int64\n",
            "interceptions                           int64\n",
            "net_yards_per_pass_attempt_allowed    float64\n",
            "rushing_first_downs_allowed             int64\n",
            "rushing_attempts_against                int64\n",
            "rushing_yards_allowed                   int64\n",
            "rushing_touchdowns_allowed              int64\n",
            "yards_per_rushing_attempt_allowed     float64\n",
            "total_first_downs_allowed               int64\n",
            "penalties_defense                       int64\n",
            "penalty_yards_defense                   int64\n",
            "first_downs_by_penalty_defense          int64\n",
            "score_percentage_defense              float64\n",
            "turnover_percentage_defense           float64\n",
            "expected_points_added                 float64\n",
            "dtype: object\n"
          ]
        }
      ]
    },
    {
      "cell_type": "markdown",
      "source": [
        "## Feature Selection"
      ],
      "metadata": {
        "id": "zzKxkQHaJye2"
      }
    },
    {
      "cell_type": "markdown",
      "source": [
        "Offense and defense rank are removed because they provide comparison, but do not add unique data for modeling. Offense and defense games are excluded because the number of games is consistent across each team within a season. Offense and defense plays are removed because while it shows team strategy, it is not directly indicative of success in comparison to total yards and points. First downs gained and allowed are indirectly represented through total yards and points. Rushing first downs are a subset of total first downs, so they are removed to simplify the model. All penalty features are removed as while do affect game outcomes, they do not correlate with the ability to win the superbowl. Fumbles lost and recovered are removed as they are represented in the overall turnover metrics."
      ],
      "metadata": {
        "id": "moHTj1BeJ8wo"
      }
    },
    {
      "cell_type": "code",
      "source": [
        "#Exclude redundant metrics\n",
        "columns_drops = ['off_rank', 'def_rank', 'games_offense', 'games_defense', 'plays_offense',\n",
        "                   'plays_defense', 'first_downs_gained', 'first_downs_allowed', 'rushing_first_downs',\n",
        "                   'penalties_offense', 'penalty_yards_offense', 'penalties_defense', 'penalty_yards_defense',\n",
        "                   'fumbles_lost', 'fumbles_recovered']\n",
        "total_years = total_years.drop(columns=columns_drops)"
      ],
      "metadata": {
        "id": "jpiGbTztJ2YM"
      },
      "execution_count": null,
      "outputs": []
    },
    {
      "cell_type": "markdown",
      "source": [
        "## Feature Engineering"
      ],
      "metadata": {
        "id": "uTwBdBxQjdOZ"
      }
    },
    {
      "cell_type": "markdown",
      "source": [
        "We felt that differential statistics were necessary in order to indicate team strength. Point differential is indicative of team strength by showing how much a team outscores its opponents. Teams with higher point differentials tend to win more often, making this a critical feature to include. Yardage differential shows if a team dominates in moving the ball and stopping opponents. Turnover differential highlights how well a team is at taking care of the ball compared to turning it over. This metric indicates of how well-rounded team is. Net score differential compares scoring efficiency on offense versus what it allows on defense. High net scoring means a team is efficient at both scoring and stopping others from scoring."
      ],
      "metadata": {
        "id": "6Cqev-IYjl7q"
      }
    },
    {
      "cell_type": "code",
      "source": [
        "#Create differential stats to emphasize team strength\n",
        "total_years['points_differential'] = total_years['points_for'] - total_years['points_allowed']\n",
        "total_years['yards_per_play_differential'] = total_years['yards_per_play'] - total_years['yards_per_play_allowed']\n",
        "total_years['turnover_differential'] = total_years['turnovers_forced'] - total_years['turnovers_committed']\n",
        "total_years['net_score_differential'] = total_years['score_percentage_offense'] - total_years['score_percentage_defense']\n",
        "\n",
        "\n",
        "#Add super bowl winner column for target id\n",
        "sb_win = {\n",
        "    2002: 'Tampa Bay Buccaneers',\n",
        "    2003: 'New England Patriots',\n",
        "    2004: 'New England Patriots',\n",
        "    2005: 'Pittsburgh Steelers',\n",
        "    2006: 'Indianapolis Colts',\n",
        "    2007: 'New York Giants',\n",
        "    2008: 'Pittsburgh Steelers',\n",
        "    2009: 'New Orleans Saints',\n",
        "    2010: 'Green Bay Packers',\n",
        "    2011: 'New York Giants',\n",
        "    2012: 'Baltimore Ravens',\n",
        "    2013: 'Seattle Seahawks',\n",
        "    2014: 'New England Patriots',\n",
        "    2015: 'Denver Broncos',\n",
        "    2016: 'New England Patriots',\n",
        "    2017: 'Philadelphia Eagles',\n",
        "    2018: 'New England Patriots',\n",
        "    2019: 'Kansas City Chiefs',\n",
        "    2020: 'Tampa Bay Buccaneers',\n",
        "    2021: 'Los Angeles Rams',\n",
        "    2022: 'Kansas City Chiefs',\n",
        "    2023: 'Kansas City Chiefs'\n",
        "}\n",
        "\n",
        "#for 2024 data\n",
        "combined24['points_differential'] = combined24['points_for'] - combined24['points_allowed']\n",
        "combined24['turnover_differential'] = combined24['turnovers_forced'] - combined24['turnovers_committed']\n",
        "combined24['net_score_differential'] = combined24['score_percentage_offense'] - combined24['score_percentage_defense']\n",
        "combined24['yards_per_play_differential'] = total_years['yards_per_play'] - total_years['yards_per_play_allowed']\n",
        "\n",
        "\n",
        "# Add sb winner\n",
        "total_years['sb_win'] = (total_years['team'] == total_years['year'].map(sb_win)).astype(int)"
      ],
      "metadata": {
        "id": "Pm99GViRjNvN"
      },
      "execution_count": null,
      "outputs": []
    },
    {
      "cell_type": "markdown",
      "source": [
        "## Analysis"
      ],
      "metadata": {
        "id": "XywwkFQd7o7O"
      }
    },
    {
      "cell_type": "markdown",
      "source": [
        "After eliminated and engineering features, we will set up the neural network to predict who will win the Super Bowl this year.\n",
        "\n",
        "First, we setup the features and target, then normalize the features in order to ensure each feature contributes equally in predicting."
      ],
      "metadata": {
        "id": "gE5j5VYt7rkw"
      }
    },
    {
      "cell_type": "code",
      "source": [
        "# Define features\n",
        "features = ['points_differential',\n",
        "            'yards_per_play_differential', 'turnover_differential'] #Prime 3 features"
      ],
      "metadata": {
        "id": "1tWalWiK8enD"
      },
      "execution_count": null,
      "outputs": []
    },
    {
      "cell_type": "code",
      "source": [
        "# Define features and target\n",
        "X = total_years[features]\n",
        "y = total_years['sb_win']\n",
        "\n",
        "# Split the data into training and testing sets\n",
        "X_train, X_test, y_train, y_test = train_test_split(X, y, test_size=0.2, random_state=42)\n",
        "\n",
        "# Scaling the features\n",
        "scaler = StandardScaler()\n",
        "X_train_scaled = scaler.fit_transform(X_train)\n",
        "X_test_scaled = scaler.transform(X_test)\n",
        "\n",
        "#SMOTE\n",
        "smote = SMOTE()\n",
        "X_train_balanced, y_train_balanced = smote.fit_resample(X_train_scaled, y_train)\n",
        "\n",
        "# Verify balancing\n",
        "print(pd.Series(y_train_balanced).value_counts())"
      ],
      "metadata": {
        "colab": {
          "base_uri": "https://localhost:8080/"
        },
        "id": "SaQQdW7V7wj2",
        "outputId": "7090eb70-98dd-4dd9-cdb6-975072acc39e"
      },
      "execution_count": null,
      "outputs": [
        {
          "output_type": "stream",
          "name": "stdout",
          "text": [
            "sb_win\n",
            "0    546\n",
            "1    546\n",
            "Name: count, dtype: int64\n"
          ]
        }
      ]
    },
    {
      "cell_type": "code",
      "source": [
        "# Build the neural network model\n",
        "model = Sequential()\n",
        "\n",
        "#Input layer (number of input features)\n",
        "model.add(Dense(128, input_dim=X_train_balanced.shape[1], activation='relu'))\n",
        "\n",
        "#Hidden layers\n",
        "model.add(Dense(64, activation='relu'))\n",
        "model.add(Dense(32, activation='relu'))\n",
        "\n",
        "#Output layers\n",
        "model.add(Dense(1, activation='sigmoid'))  # Binary output\n",
        "\n",
        "# Compile the model\n",
        "model.compile(optimizer='adam', loss='binary_crossentropy', metrics=['accuracy'])\n",
        "\n",
        "#Summary of the model\n",
        "model.summary()"
      ],
      "metadata": {
        "id": "b2ziM47VbYlb",
        "colab": {
          "base_uri": "https://localhost:8080/",
          "height": 315
        },
        "outputId": "1e79a5ab-4591-4538-c6f6-57fef782a3a2"
      },
      "execution_count": null,
      "outputs": [
        {
          "output_type": "stream",
          "name": "stderr",
          "text": [
            "/usr/local/lib/python3.10/dist-packages/keras/src/layers/core/dense.py:87: UserWarning: Do not pass an `input_shape`/`input_dim` argument to a layer. When using Sequential models, prefer using an `Input(shape)` object as the first layer in the model instead.\n",
            "  super().__init__(activity_regularizer=activity_regularizer, **kwargs)\n"
          ]
        },
        {
          "output_type": "display_data",
          "data": {
            "text/plain": [
              "\u001b[1mModel: \"sequential\"\u001b[0m\n"
            ],
            "text/html": [
              "<pre style=\"white-space:pre;overflow-x:auto;line-height:normal;font-family:Menlo,'DejaVu Sans Mono',consolas,'Courier New',monospace\"><span style=\"font-weight: bold\">Model: \"sequential\"</span>\n",
              "</pre>\n"
            ]
          },
          "metadata": {}
        },
        {
          "output_type": "display_data",
          "data": {
            "text/plain": [
              "┏━━━━━━━━━━━━━━━━━━━━━━━━━━━━━━━━━━━━━━┳━━━━━━━━━━━━━━━━━━━━━━━━━━━━━┳━━━━━━━━━━━━━━━━━┓\n",
              "┃\u001b[1m \u001b[0m\u001b[1mLayer (type)                        \u001b[0m\u001b[1m \u001b[0m┃\u001b[1m \u001b[0m\u001b[1mOutput Shape               \u001b[0m\u001b[1m \u001b[0m┃\u001b[1m \u001b[0m\u001b[1m        Param #\u001b[0m\u001b[1m \u001b[0m┃\n",
              "┡━━━━━━━━━━━━━━━━━━━━━━━━━━━━━━━━━━━━━━╇━━━━━━━━━━━━━━━━━━━━━━━━━━━━━╇━━━━━━━━━━━━━━━━━┩\n",
              "│ dense (\u001b[38;5;33mDense\u001b[0m)                        │ (\u001b[38;5;45mNone\u001b[0m, \u001b[38;5;34m128\u001b[0m)                 │             \u001b[38;5;34m512\u001b[0m │\n",
              "├──────────────────────────────────────┼─────────────────────────────┼─────────────────┤\n",
              "│ dense_1 (\u001b[38;5;33mDense\u001b[0m)                      │ (\u001b[38;5;45mNone\u001b[0m, \u001b[38;5;34m64\u001b[0m)                  │           \u001b[38;5;34m8,256\u001b[0m │\n",
              "├──────────────────────────────────────┼─────────────────────────────┼─────────────────┤\n",
              "│ dense_2 (\u001b[38;5;33mDense\u001b[0m)                      │ (\u001b[38;5;45mNone\u001b[0m, \u001b[38;5;34m32\u001b[0m)                  │           \u001b[38;5;34m2,080\u001b[0m │\n",
              "├──────────────────────────────────────┼─────────────────────────────┼─────────────────┤\n",
              "│ dense_3 (\u001b[38;5;33mDense\u001b[0m)                      │ (\u001b[38;5;45mNone\u001b[0m, \u001b[38;5;34m1\u001b[0m)                   │              \u001b[38;5;34m33\u001b[0m │\n",
              "└──────────────────────────────────────┴─────────────────────────────┴─────────────────┘\n"
            ],
            "text/html": [
              "<pre style=\"white-space:pre;overflow-x:auto;line-height:normal;font-family:Menlo,'DejaVu Sans Mono',consolas,'Courier New',monospace\">┏━━━━━━━━━━━━━━━━━━━━━━━━━━━━━━━━━━━━━━┳━━━━━━━━━━━━━━━━━━━━━━━━━━━━━┳━━━━━━━━━━━━━━━━━┓\n",
              "┃<span style=\"font-weight: bold\"> Layer (type)                         </span>┃<span style=\"font-weight: bold\"> Output Shape                </span>┃<span style=\"font-weight: bold\">         Param # </span>┃\n",
              "┡━━━━━━━━━━━━━━━━━━━━━━━━━━━━━━━━━━━━━━╇━━━━━━━━━━━━━━━━━━━━━━━━━━━━━╇━━━━━━━━━━━━━━━━━┩\n",
              "│ dense (<span style=\"color: #0087ff; text-decoration-color: #0087ff\">Dense</span>)                        │ (<span style=\"color: #00d7ff; text-decoration-color: #00d7ff\">None</span>, <span style=\"color: #00af00; text-decoration-color: #00af00\">128</span>)                 │             <span style=\"color: #00af00; text-decoration-color: #00af00\">512</span> │\n",
              "├──────────────────────────────────────┼─────────────────────────────┼─────────────────┤\n",
              "│ dense_1 (<span style=\"color: #0087ff; text-decoration-color: #0087ff\">Dense</span>)                      │ (<span style=\"color: #00d7ff; text-decoration-color: #00d7ff\">None</span>, <span style=\"color: #00af00; text-decoration-color: #00af00\">64</span>)                  │           <span style=\"color: #00af00; text-decoration-color: #00af00\">8,256</span> │\n",
              "├──────────────────────────────────────┼─────────────────────────────┼─────────────────┤\n",
              "│ dense_2 (<span style=\"color: #0087ff; text-decoration-color: #0087ff\">Dense</span>)                      │ (<span style=\"color: #00d7ff; text-decoration-color: #00d7ff\">None</span>, <span style=\"color: #00af00; text-decoration-color: #00af00\">32</span>)                  │           <span style=\"color: #00af00; text-decoration-color: #00af00\">2,080</span> │\n",
              "├──────────────────────────────────────┼─────────────────────────────┼─────────────────┤\n",
              "│ dense_3 (<span style=\"color: #0087ff; text-decoration-color: #0087ff\">Dense</span>)                      │ (<span style=\"color: #00d7ff; text-decoration-color: #00d7ff\">None</span>, <span style=\"color: #00af00; text-decoration-color: #00af00\">1</span>)                   │              <span style=\"color: #00af00; text-decoration-color: #00af00\">33</span> │\n",
              "└──────────────────────────────────────┴─────────────────────────────┴─────────────────┘\n",
              "</pre>\n"
            ]
          },
          "metadata": {}
        },
        {
          "output_type": "display_data",
          "data": {
            "text/plain": [
              "\u001b[1m Total params: \u001b[0m\u001b[38;5;34m10,881\u001b[0m (42.50 KB)\n"
            ],
            "text/html": [
              "<pre style=\"white-space:pre;overflow-x:auto;line-height:normal;font-family:Menlo,'DejaVu Sans Mono',consolas,'Courier New',monospace\"><span style=\"font-weight: bold\"> Total params: </span><span style=\"color: #00af00; text-decoration-color: #00af00\">10,881</span> (42.50 KB)\n",
              "</pre>\n"
            ]
          },
          "metadata": {}
        },
        {
          "output_type": "display_data",
          "data": {
            "text/plain": [
              "\u001b[1m Trainable params: \u001b[0m\u001b[38;5;34m10,881\u001b[0m (42.50 KB)\n"
            ],
            "text/html": [
              "<pre style=\"white-space:pre;overflow-x:auto;line-height:normal;font-family:Menlo,'DejaVu Sans Mono',consolas,'Courier New',monospace\"><span style=\"font-weight: bold\"> Trainable params: </span><span style=\"color: #00af00; text-decoration-color: #00af00\">10,881</span> (42.50 KB)\n",
              "</pre>\n"
            ]
          },
          "metadata": {}
        },
        {
          "output_type": "display_data",
          "data": {
            "text/plain": [
              "\u001b[1m Non-trainable params: \u001b[0m\u001b[38;5;34m0\u001b[0m (0.00 B)\n"
            ],
            "text/html": [
              "<pre style=\"white-space:pre;overflow-x:auto;line-height:normal;font-family:Menlo,'DejaVu Sans Mono',consolas,'Courier New',monospace\"><span style=\"font-weight: bold\"> Non-trainable params: </span><span style=\"color: #00af00; text-decoration-color: #00af00\">0</span> (0.00 B)\n",
              "</pre>\n"
            ]
          },
          "metadata": {}
        }
      ]
    },
    {
      "cell_type": "markdown",
      "source": [
        "Now, we've built and compiled the model, with an output layer of a single binary classification; Super Bowl win or not. The hidden layers progressively decrease in number of nodes so that the model can learn and extrapolate from complex patterns effectively.\n",
        "\n",
        "Our optimizer, `adam`, handles sparse gradients effectively, meaning it can handle adjusting the model even for very slight and subtle adjustments, and our loss function, `binary_crossentropy`, is ideal for binary classification problems. Now that the model is built, we'll fit it to our new data and make our super bowl champion prediction."
      ],
      "metadata": {
        "id": "1o5ywHarYXDU"
      }
    },
    {
      "cell_type": "code",
      "source": [
        "# Train model\n",
        "history = model.fit(X_train_balanced, y_train_balanced, epochs=20, batch_size=32, validation_split=0.2)\n",
        "\n",
        "# Eval model\n",
        "loss, accuracy = model.evaluate(X_test_scaled, y_test)\n",
        "print(f\"Test Loss: {loss:.4f}, Test Accuracy: {accuracy:.4f}\")\n",
        "\n",
        "# Same features for 2024 data\n",
        "X_2024 = combined24[features]\n",
        "\n",
        "# Scale 2024\n",
        "X_2024_scaled = scaler.transform(X_2024)\n",
        "\n",
        "# Predict 2024\n",
        "predictions_2024 = model.predict(X_2024_scaled)\n",
        "\n",
        "# Convert probabilities to binary\n",
        "combined24['predicted_super_bowl_winner'] = (predictions_2024 > 0.5).astype(int)\n",
        "\n",
        "# Add probabilities to df for analysis\n",
        "combined24['win_probability'] = predictions_2024\n",
        "\n",
        "# Sort and display the teams with the highest probability of winning\n",
        "combined24_sorted = combined24.sort_values(by='win_probability', ascending=False)\n",
        "print(combined24_sorted[['team', 'win_probability', 'predicted_super_bowl_winner']].head())"
      ],
      "metadata": {
        "colab": {
          "base_uri": "https://localhost:8080/"
        },
        "id": "Z9KbSeAu-lQv",
        "outputId": "20d26106-037b-4641-f09c-7b1f6b79686f"
      },
      "execution_count": null,
      "outputs": [
        {
          "output_type": "stream",
          "name": "stdout",
          "text": [
            "Epoch 1/20\n",
            "\u001b[1m28/28\u001b[0m \u001b[32m━━━━━━━━━━━━━━━━━━━━\u001b[0m\u001b[37m\u001b[0m \u001b[1m8s\u001b[0m 26ms/step - accuracy: 0.7425 - loss: 0.6212 - val_accuracy: 0.9726 - val_loss: 0.3947\n",
            "Epoch 2/20\n",
            "\u001b[1m28/28\u001b[0m \u001b[32m━━━━━━━━━━━━━━━━━━━━\u001b[0m\u001b[37m\u001b[0m \u001b[1m1s\u001b[0m 14ms/step - accuracy: 0.8430 - loss: 0.4115 - val_accuracy: 0.8447 - val_loss: 0.4245\n",
            "Epoch 3/20\n",
            "\u001b[1m28/28\u001b[0m \u001b[32m━━━━━━━━━━━━━━━━━━━━\u001b[0m\u001b[37m\u001b[0m \u001b[1m0s\u001b[0m 7ms/step - accuracy: 0.8535 - loss: 0.3390 - val_accuracy: 0.8630 - val_loss: 0.4164\n",
            "Epoch 4/20\n",
            "\u001b[1m28/28\u001b[0m \u001b[32m━━━━━━━━━━━━━━━━━━━━\u001b[0m\u001b[37m\u001b[0m \u001b[1m0s\u001b[0m 12ms/step - accuracy: 0.8479 - loss: 0.3382 - val_accuracy: 0.9224 - val_loss: 0.3221\n",
            "Epoch 5/20\n",
            "\u001b[1m28/28\u001b[0m \u001b[32m━━━━━━━━━━━━━━━━━━━━\u001b[0m\u001b[37m\u001b[0m \u001b[1m0s\u001b[0m 9ms/step - accuracy: 0.8319 - loss: 0.3421 - val_accuracy: 0.8858 - val_loss: 0.3616\n",
            "Epoch 6/20\n",
            "\u001b[1m28/28\u001b[0m \u001b[32m━━━━━━━━━━━━━━━━━━━━\u001b[0m\u001b[37m\u001b[0m \u001b[1m1s\u001b[0m 16ms/step - accuracy: 0.8691 - loss: 0.2988 - val_accuracy: 0.8082 - val_loss: 0.4777\n",
            "Epoch 7/20\n",
            "\u001b[1m28/28\u001b[0m \u001b[32m━━━━━━━━━━━━━━━━━━━━\u001b[0m\u001b[37m\u001b[0m \u001b[1m0s\u001b[0m 6ms/step - accuracy: 0.8683 - loss: 0.2893 - val_accuracy: 0.9269 - val_loss: 0.3252\n",
            "Epoch 8/20\n",
            "\u001b[1m28/28\u001b[0m \u001b[32m━━━━━━━━━━━━━━━━━━━━\u001b[0m\u001b[37m\u001b[0m \u001b[1m0s\u001b[0m 9ms/step - accuracy: 0.8623 - loss: 0.3051 - val_accuracy: 0.8950 - val_loss: 0.3464\n",
            "Epoch 9/20\n",
            "\u001b[1m28/28\u001b[0m \u001b[32m━━━━━━━━━━━━━━━━━━━━\u001b[0m\u001b[37m\u001b[0m \u001b[1m1s\u001b[0m 8ms/step - accuracy: 0.8749 - loss: 0.2815 - val_accuracy: 0.8858 - val_loss: 0.3901\n",
            "Epoch 10/20\n",
            "\u001b[1m28/28\u001b[0m \u001b[32m━━━━━━━━━━━━━━━━━━━━\u001b[0m\u001b[37m\u001b[0m \u001b[1m0s\u001b[0m 8ms/step - accuracy: 0.8576 - loss: 0.2932 - val_accuracy: 0.9269 - val_loss: 0.2767\n",
            "Epoch 11/20\n",
            "\u001b[1m28/28\u001b[0m \u001b[32m━━━━━━━━━━━━━━━━━━━━\u001b[0m\u001b[37m\u001b[0m \u001b[1m1s\u001b[0m 8ms/step - accuracy: 0.8769 - loss: 0.2736 - val_accuracy: 0.8995 - val_loss: 0.3287\n",
            "Epoch 12/20\n",
            "\u001b[1m28/28\u001b[0m \u001b[32m━━━━━━━━━━━━━━━━━━━━\u001b[0m\u001b[37m\u001b[0m \u001b[1m0s\u001b[0m 10ms/step - accuracy: 0.8716 - loss: 0.2607 - val_accuracy: 0.9361 - val_loss: 0.2722\n",
            "Epoch 13/20\n",
            "\u001b[1m28/28\u001b[0m \u001b[32m━━━━━━━━━━━━━━━━━━━━\u001b[0m\u001b[37m\u001b[0m \u001b[1m0s\u001b[0m 5ms/step - accuracy: 0.8810 - loss: 0.2714 - val_accuracy: 0.9315 - val_loss: 0.2392\n",
            "Epoch 14/20\n",
            "\u001b[1m28/28\u001b[0m \u001b[32m━━━━━━━━━━━━━━━━━━━━\u001b[0m\u001b[37m\u001b[0m \u001b[1m0s\u001b[0m 8ms/step - accuracy: 0.8602 - loss: 0.2825 - val_accuracy: 0.8995 - val_loss: 0.3093\n",
            "Epoch 15/20\n",
            "\u001b[1m28/28\u001b[0m \u001b[32m━━━━━━━━━━━━━━━━━━━━\u001b[0m\u001b[37m\u001b[0m \u001b[1m0s\u001b[0m 6ms/step - accuracy: 0.8734 - loss: 0.2686 - val_accuracy: 0.9498 - val_loss: 0.2375\n",
            "Epoch 16/20\n",
            "\u001b[1m28/28\u001b[0m \u001b[32m━━━━━━━━━━━━━━━━━━━━\u001b[0m\u001b[37m\u001b[0m \u001b[1m0s\u001b[0m 12ms/step - accuracy: 0.8724 - loss: 0.2824 - val_accuracy: 0.9269 - val_loss: 0.2242\n",
            "Epoch 17/20\n",
            "\u001b[1m28/28\u001b[0m \u001b[32m━━━━━━━━━━━━━━━━━━━━\u001b[0m\u001b[37m\u001b[0m \u001b[1m1s\u001b[0m 16ms/step - accuracy: 0.8748 - loss: 0.2605 - val_accuracy: 0.9041 - val_loss: 0.2993\n",
            "Epoch 18/20\n",
            "\u001b[1m28/28\u001b[0m \u001b[32m━━━━━━━━━━━━━━━━━━━━\u001b[0m\u001b[37m\u001b[0m \u001b[1m1s\u001b[0m 14ms/step - accuracy: 0.8857 - loss: 0.2475 - val_accuracy: 0.9361 - val_loss: 0.2198\n",
            "Epoch 19/20\n",
            "\u001b[1m28/28\u001b[0m \u001b[32m━━━━━━━━━━━━━━━━━━━━\u001b[0m\u001b[37m\u001b[0m \u001b[1m0s\u001b[0m 5ms/step - accuracy: 0.8837 - loss: 0.2507 - val_accuracy: 0.9315 - val_loss: 0.2339\n",
            "Epoch 20/20\n",
            "\u001b[1m28/28\u001b[0m \u001b[32m━━━━━━━━━━━━━━━━━━━━\u001b[0m\u001b[37m\u001b[0m \u001b[1m0s\u001b[0m 7ms/step - accuracy: 0.8706 - loss: 0.2692 - val_accuracy: 0.9498 - val_loss: 0.2118\n",
            "\u001b[1m5/5\u001b[0m \u001b[32m━━━━━━━━━━━━━━━━━━━━\u001b[0m\u001b[37m\u001b[0m \u001b[1m0s\u001b[0m 4ms/step - accuracy: 0.7782 - loss: 0.4969 \n",
            "Test Loss: 0.4228, Test Accuracy: 0.7943\n",
            "\u001b[1m1/1\u001b[0m \u001b[32m━━━━━━━━━━━━━━━━━━━━\u001b[0m\u001b[37m\u001b[0m \u001b[1m0s\u001b[0m 101ms/step\n",
            "                   team  win_probability  predicted_super_bowl_winner\n",
            "3         Buffalo Bills         0.497515                            0\n",
            "0      Baltimore Ravens         0.462163                            0\n",
            "5         Detroit Lions         0.361758                            0\n",
            "15  Philadelphia Eagles         0.121633                            0\n",
            "13   Kansas City Chiefs         0.070890                            0\n"
          ]
        }
      ]
    },
    {
      "cell_type": "markdown",
      "source": [
        "As we can see, the most likely contenders for being this year's Super Bowl champions, based on regular season data so far and according to our model, are the Buffalo Bills and the Baltimore Ravens, with the Detroit Lions not too far behind, and the Eagles and Chiefs a slightly more distant fourth and fifth place.\n",
        "\n",
        "Note that here, the model is calculating each team's probability of winning, `win_probability`, as independent, rather than part of a collective sum, which is why the probabilities clearly do not add up to 1. This allows us to evaluate the teams on individual performance, rather than considering the relative probability of every other team in the dataset.\n",
        "\n",
        "Ultimately, this approach gives us a broader perspective on the teams, as we avoid a zero-sum output where an increase in one team's probability of winning would decrease the others'. This allows us to see which teams the model favors based purely on their own season performance, without being influenced by the relative strength or performance of other teams."
      ],
      "metadata": {
        "id": "cCqB66YNYPVg"
      }
    },
    {
      "cell_type": "markdown",
      "source": [
        "## Conclusion"
      ],
      "metadata": {
        "id": "MSaZlg5c6efx"
      }
    },
    {
      "cell_type": "markdown",
      "source": [
        "In this analysis, we created a sequential neural network model and trained it on historical NFL data to predict the most likely Super Bowl champions based on regular season performance from over two decades of historical data. The model was designed with independent probability predictions for each team, allowing us to highlight and assess individual team performance and make predictions that aren't negatively influenced by the probabilities of other teams.\n",
        "\n",
        "According to our model, the top three contenders this year are the Buffalo Bills, Baltimore Ravens, and Detroit Lions, with the Bills and the Ravens being the two closest. The model's output, showing distinct instances of teams standing out greatly in terms of win percentage, showcases the model's ability to identify top contenders based on the season data. The model emphasized efficiency and overall season strength, as reflected in the input features.\n",
        "\n",
        "Our choice of input features was of great importance in this analysis, and the pruning of highly correlated features and selection of the most important ones aided us in avoiding overfitting and improving prediction reliability.\n",
        "\n",
        "During testing, we found reasonable accuracy using historical data, confirming its capabilities to make such predictions. It is, however, important to note certain limitations and challenges in generalizing to future seasons, including potential biases from historical data, evolutions in the way the game is played over time, and black swan events like injuries or other unexpected events that can affect the outcome of performance, especially a binary event like the Super Bowl.\n",
        "\n",
        "On that same note, since the target which we're predicting is indeed a binary event, and a high-stakes, decisive one at that, we carefully made sure our methodologies and model input variables aligned with the ability to predict such an event. We chose net yards per play differential over total yards differential, for example, because a key factor in a high-stakes game is the ability to consistently gain yards per play and limit your opponent's yards per play. While net yards per play and total yards might both be good indicators of a team's dominance over a total season, total yards differential is less reliable in predicting outcomes in a single critical game where each contender is facing the league's best competition, and the most important factor is efficiency.\n",
        "\n",
        "Overall, by leveraging predictions reflecting individual probability of success on a team basis, using historical data and carefully chosen features, our model provides a useful lens for assessing the top champion contenders. While the analysis has its constraints, the model nonetheless provides an insightful data-driven approach for future predictions using past outcomes and further exploration of what characteristics best capture a those of a championship team.For now, we'll wait to see how the model's predictions play out come February. Time to start rooting for the Bills?"
      ],
      "metadata": {
        "id": "4wdDNQ9A6iZD"
      }
    }
  ]
}